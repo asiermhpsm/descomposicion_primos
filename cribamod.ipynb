{
  "nbformat": 4,
  "nbformat_minor": 0,
  "metadata": {
    "colab": {
      "provenance": []
    },
    "kernelspec": {
      "name": "python3",
      "display_name": "Python 3"
    },
    "language_info": {
      "name": "python"
    }
  },
  "cells": [
    {
      "cell_type": "code",
      "execution_count": 1,
      "metadata": {
        "id": "etWZeRAwLsSw"
      },
      "outputs": [],
      "source": [
        "import math\n",
        "from sympy import isprime\n",
        "import numpy as np\n",
        "from itertools import product\n",
        "import math\n",
        "from decimal import Decimal\n",
        "\n",
        "#Factoriza un número usando la criba cuadrática el método de Gauss para resolver el sistema\n",
        "def factorizacion_criba(n):\n",
        "    #factorizacion es la factorizacion de números a^2 mod N que son B suaves\n",
        "    #La factorizacion está expresada como la potencia a la que se eleva cada uno\n",
        "    #primos de la lista lista_primos. numeros son los números xi con los que se\n",
        "    #ha conseguido que F(xi) sea de la forma a^2 mod N es B-suave\n",
        "    factorizacion, lista_primos, numeros = criba(n)\n",
        "    if len(factorizacion) <= 0:\n",
        "      return 1, n\n",
        "    #Planteamos el sistema de ecuaciones convirtiendola a modulo 2 y trasponiendo\n",
        "    matriz = np.transpose(np.asarray(factorizacion) % 2)\n",
        "    #Conseguimos la matriz triangular superior, así como el número de columna de\n",
        "    #las variables libres\n",
        "    diagonal, var_libres = diagonal_matrix(matriz)\n",
        "    if len(diagonal) <= 0:\n",
        "      return 1, n\n",
        "    #Inicializo un vector relleno de -1 de longitud el número de columnas de la matriz\n",
        "    solucion_sistema = [-1]*len(diagonal[0])\n",
        "    #Voy generando las posibles combinaciones (modulo 2, es decir 0's o 1's)\n",
        "    #para luego asignarlas a las variables libres\n",
        "    generador = generar_combinaciones(len(var_libres))\n",
        "    while True:\n",
        "      try:\n",
        "        #Genero combinacion de de 0's y 1's\n",
        "        combinacion = next(generador)\n",
        "        #Voy asignando a cada variable libre el valor que le corresponde\n",
        "        for i in range(len(var_libres)):\n",
        "          solucion_sistema[var_libres[i]] = combinacion[i]\n",
        "        #Consigo las dimensiones de mi matriz\n",
        "        rows, cols = diagonal.shape\n",
        "        #Voy calculando el valor de las variables pivote en funcion de las\n",
        "        #variables de su derecha empezando por la ultima fila\n",
        "        for i in range(rows - 1, -1, -1):\n",
        "          for j in range(cols):\n",
        "            if diagonal[i, j] != 0:\n",
        "              #El valor de una variable pivote será la suma (modulo 2) de los\n",
        "              #valores de las variables de su derecha\n",
        "              suma = 0\n",
        "              for k in range(j+1, cols):\n",
        "                suma = suma + (diagonal[i, k]*solucion_sistema[k]) % 2\n",
        "              solucion_sistema[j] = suma\n",
        "              #Solo hay una variable pivote por fila\n",
        "              break\n",
        "\n",
        "        #En este momento se tiene la solucion del sistema en la variable solucion_sistema\n",
        "\n",
        "\n",
        "        #producto es la mutiplicacion de los números xi con los que se\n",
        "        #ha conseguido que F(xi) sea de la forma a^2 mod N es B-suave. Es lo que\n",
        "        #se usará en el mcd. Se usa Decimal para aumentar el tamaño de los enteros\n",
        "        #con los que se puede trabajar\n",
        "        producto = Decimal(1)\n",
        "        for i in range(len(numeros)):\n",
        "            producto *= Decimal(int(numeros[i]) ** int(solucion_sistema[i]))\n",
        "        producto = int(producto)\n",
        "\n",
        "\n",
        "        #factorizacion_producto es el conjunto de numeros x que hacen que\n",
        "        #(xi*xj*xk...)^2 mod N. Está expresado como el exponente de los primos\n",
        "        #de lista_primos (el elevado al cuadrado está incluido)\n",
        "        factorizacion_producto = [0] * len(factorizacion[0])\n",
        "        for i, condicion in enumerate(solucion_sistema):\n",
        "          if condicion == 1:\n",
        "            factorizacion_producto = [x + y for x, y in zip(factorizacion_producto, factorizacion[i])]\n",
        "\n",
        "\n",
        "        #K es el producto de los números de factorizacion_producto quitandole\n",
        "        #el cuadrado. Es lo que usará en el mcd\n",
        "        K = 1\n",
        "        for num1, num2 in zip(lista_primos, factorizacion_producto):\n",
        "          K *= num1 ** (num2/2)\n",
        "        K = int(K)\n",
        "\n",
        "        #calculo el mcd\n",
        "        mcd = math.gcd(n, producto - K)\n",
        "        #si el mcd es distinto de 1 o N he encontrado la solucion\n",
        "        if mcd != 1 and mcd != n:\n",
        "          return mcd, int(n/mcd)\n",
        "      except StopIteration:\n",
        "          break\n",
        "    return 1, n\n",
        "\n",
        "#Devuelve la factorizacion de los números que se reducen a 1 al hacer la criba\n",
        "#cuadrática sobre n en forma de exponentes a los que se elevan los primos\n",
        "#y la lista de primos que usa\n",
        "#\n",
        "def criba(n):\n",
        "    #a=⌊√N ⌋ + 1,\n",
        "    base = math.floor(math.sqrt(n)) +1\n",
        "    #L(N)\n",
        "    l_n = math.exp( math.sqrt( math.log(n) * math.log(math.log(n))) )\n",
        "    #B=L(N)^1/√2\n",
        "    B = math.floor(l_n**(1/math.sqrt(2))) + 1\n",
        "    #b=L(N)^√2\n",
        "    tope = math.floor( pow(l_n, math.sqrt(2)) ) + 1\n",
        "\n",
        "\n",
        "    #Creo la lista de valores iniciales\n",
        "    lista=[]\n",
        "    for num in range(base, tope + 1):\n",
        "      lista.append(num**2 - n)\n",
        "    #Creo una lista de lista para guardar las divisiones que aplico\n",
        "    divisores=[[] for _ in range(tope+1-base)]\n",
        "\n",
        "    lista_primos=calcular_primos(B)\n",
        "    #Hago un bucle para dividir por todos los primos y sus potencias\n",
        "    for primo in lista_primos:\n",
        "      #i será el exponente al que se eleva el primo\n",
        "      i=1\n",
        "      #Hago un bucle para dividir por todas las potencias\n",
        "      while pow(primo, i) < B:\n",
        "        #Consigo los valores que me resuelvan la ecuacion\n",
        "        soluciones=resolver_ecuacion(base, tope, n, pow(primo, i))\n",
        "        #Si no hay soluciones  paso al siguiente número\n",
        "        if soluciones != []:\n",
        "          #Hago un bucle para las dos soluciones\n",
        "          for sol in soluciones:\n",
        "            #Inicialmente j será la posicion en la lista en la que está la solución\n",
        "            j = sol - base\n",
        "            #Divido todos los elementos con posicion j+k*primo\n",
        "            #y guardo la division\n",
        "            while j < len(lista):\n",
        "              potencia = i-cuenta_num_apariciones(divisores[j], primo)\n",
        "              divisor = pow(primo, potencia)\n",
        "              if divisor != 1:\n",
        "                lista[j] /= divisor\n",
        "                for _ in range(potencia):\n",
        "                  divisores[j].append(divisor)\n",
        "              j += primo\n",
        "        i +=1\n",
        "    #En posiciones se guardará las posiciones de los elementos de la lista que se\n",
        "    #hayan reducido a 1\n",
        "    posiciones = []\n",
        "    for indice, elemento in enumerate(lista):\n",
        "        if elemento == 1:\n",
        "            posiciones.append(indice)\n",
        "\n",
        "    #resultado_divisores es una lista de listas con los factores de los elementos\n",
        "    #que se hayan reducido a 1\n",
        "    resultado_divisores = [divisores[posicion] for posicion in posiciones]\n",
        "    #Devuelvo la factorización de los elementos que se hayan reducido a 1 en forma\n",
        "    #de exponentes de la lista de primos\n",
        "    return [contar_apariciones(lista_primos, lista) for lista in resultado_divisores], lista_primos, [pos + base for pos in posiciones]\n",
        "\n",
        "#Devuelve la matriz diagonal y\n",
        "#la lista con el número de columna de las variables libres\n",
        "def diagonal_matrix(M):\n",
        "    A = np.copy(M)\n",
        "    rows, cols = A.shape\n",
        "    var_libres = list(range(cols))\n",
        "    # Triangular superior\n",
        "    for i in range(rows):\n",
        "      #Busco el pivote de la fila i\n",
        "      for j in range(cols):\n",
        "        #Compruebo si es pivote\n",
        "        if A[i, j] != 0:\n",
        "          var_libres[j] = -1\n",
        "          #Resto una unidad a las filas de abajo del pivote que tengan un 1 debajo del pivote\n",
        "          for k in range(i+1, rows):\n",
        "              if A[k, j] != 0:\n",
        "                  A[k] = [ (x - y) % 2 for x, y in zip(A[k], A[i])]\n",
        "          break\n",
        "    return quitar_fila_ceros(A), [x for x in var_libres if x != -1]\n",
        "\n",
        "#Calcula los número primos menores que B\n",
        "def calcular_primos(B):\n",
        "    primos = []\n",
        "    i = 2\n",
        "    while i <= B:\n",
        "        if isprime(i):\n",
        "            primos.append(i)\n",
        "        i += 1\n",
        "    return primos\n",
        "\n",
        "#Devuelve las dos primeras soluciones entre el tope y la base que cumplan que t^2 = n mod p\n",
        "def resolver_ecuacion(base, tope, n, p):\n",
        "    soluciones = []\n",
        "    N = n % p\n",
        "    for t in range(base, tope + 1):\n",
        "        if (t**2) % p == N:\n",
        "            soluciones.append(t)\n",
        "            if len(soluciones) == 2:\n",
        "                return soluciones\n",
        "    return soluciones\n",
        "\n",
        "#Devuelve el número de apariciones de p en lista\n",
        "def cuenta_num_apariciones(lista, p):\n",
        "    count = 0\n",
        "    for elemento in lista:\n",
        "        if elemento == p:\n",
        "            count += 1\n",
        "    return count\n",
        "\n",
        "#Devuelve el número de apariciones de los elementos de la primera lista en la segunda\n",
        "def contar_apariciones(lista1, lista2):\n",
        "    contador = []\n",
        "    for elemento in lista1:\n",
        "        contador.append(lista2.count(elemento))\n",
        "    return contador\n",
        "\n",
        "#Devuelve la matriz quitando las filas de todo ceros\n",
        "def quitar_fila_ceros(matriz):\n",
        "    return matriz[np.any(matriz, axis=1)]\n",
        "\n",
        "#Genera las posibles combinaciones de 0's y 1's de longitud n segun se vayan necesitando\n",
        "def generar_combinaciones(n):\n",
        "    for combinacion in product([0, 1], repeat=n):\n",
        "        yield combinacion\n",
        "\n",
        "\n",
        "\n"
      ]
    },
    {
      "cell_type": "code",
      "source": [
        "print(factorizacion_criba(165))"
      ],
      "metadata": {
        "colab": {
          "base_uri": "https://localhost:8080/"
        },
        "id": "PwjfNmYmuKbE",
        "outputId": "7722d5f4-e77b-4f43-b58a-4c4a9c53cb46"
      },
      "execution_count": 2,
      "outputs": [
        {
          "output_type": "stream",
          "name": "stdout",
          "text": [
            "(11, 15)\n"
          ]
        }
      ]
    },
    {
      "cell_type": "code",
      "source": [
        "print(factorizacion_criba(195))"
      ],
      "metadata": {
        "colab": {
          "base_uri": "https://localhost:8080/"
        },
        "id": "e0UdIkm1uNAL",
        "outputId": "832fca19-9426-421e-858d-650f66b12f81"
      },
      "execution_count": 3,
      "outputs": [
        {
          "output_type": "stream",
          "name": "stdout",
          "text": [
            "(13, 15)\n"
          ]
        }
      ]
    },
    {
      "cell_type": "code",
      "source": [
        "print(factorizacion_criba(1827))"
      ],
      "metadata": {
        "colab": {
          "base_uri": "https://localhost:8080/"
        },
        "id": "ly_N9TLCuPWx",
        "outputId": "0e4ccd72-2cd9-4c7e-8094-67702e1f3e0f"
      },
      "execution_count": 4,
      "outputs": [
        {
          "output_type": "stream",
          "name": "stdout",
          "text": [
            "(21, 87)\n"
          ]
        }
      ]
    },
    {
      "cell_type": "code",
      "source": [
        "print(factorizacion_criba(1881))"
      ],
      "metadata": {
        "colab": {
          "base_uri": "https://localhost:8080/"
        },
        "id": "jf2rRGGpuVuc",
        "outputId": "ed775112-1bdf-4562-fac9-59d53a528ca7"
      },
      "execution_count": 5,
      "outputs": [
        {
          "output_type": "stream",
          "name": "stdout",
          "text": [
            "(33, 57)\n"
          ]
        }
      ]
    },
    {
      "cell_type": "code",
      "source": [
        "print(factorizacion_criba(2077))"
      ],
      "metadata": {
        "colab": {
          "base_uri": "https://localhost:8080/"
        },
        "id": "U-pmMcdwuZGi",
        "outputId": "14ba9b9f-6dbe-42c3-e418-06b1258812a9"
      },
      "execution_count": 6,
      "outputs": [
        {
          "output_type": "stream",
          "name": "stdout",
          "text": [
            "(31, 67)\n"
          ]
        }
      ]
    },
    {
      "cell_type": "code",
      "source": [
        "print(factorizacion_criba(6509))"
      ],
      "metadata": {
        "colab": {
          "base_uri": "https://localhost:8080/"
        },
        "id": "InMTrsDhvAjV",
        "outputId": "d82b0b6a-dd5b-402a-e2dd-587c54b95ec2"
      },
      "execution_count": 7,
      "outputs": [
        {
          "output_type": "stream",
          "name": "stdout",
          "text": [
            "(23, 283)\n"
          ]
        }
      ]
    },
    {
      "cell_type": "code",
      "source": [
        "print(factorizacion_criba(11049))"
      ],
      "metadata": {
        "colab": {
          "base_uri": "https://localhost:8080/"
        },
        "id": "VhmoV5aXutPm",
        "outputId": "f0e9ba59-27b7-411e-9764-4f09cccb3f3f"
      },
      "execution_count": 8,
      "outputs": [
        {
          "output_type": "stream",
          "name": "stdout",
          "text": [
            "(87, 127)\n"
          ]
        }
      ]
    },
    {
      "cell_type": "code",
      "source": [
        "print(factorizacion_criba(9993))"
      ],
      "metadata": {
        "colab": {
          "base_uri": "https://localhost:8080/"
        },
        "id": "UH3wisw4u5qH",
        "outputId": "3034ff04-11e7-43af-89da-11e79fc9452f"
      },
      "execution_count": 9,
      "outputs": [
        {
          "output_type": "stream",
          "name": "stdout",
          "text": [
            "(3, 3331)\n"
          ]
        }
      ]
    },
    {
      "cell_type": "code",
      "source": [
        "print(factorizacion_criba(9788111))"
      ],
      "metadata": {
        "colab": {
          "base_uri": "https://localhost:8080/"
        },
        "id": "aS4Kyxx_Finw",
        "outputId": "ce75c98c-cac5-4bfe-c038-223ad455cea3"
      },
      "execution_count": 10,
      "outputs": [
        {
          "output_type": "stream",
          "name": "stdout",
          "text": [
            "(2741, 3571)\n"
          ]
        }
      ]
    }
  ]
}