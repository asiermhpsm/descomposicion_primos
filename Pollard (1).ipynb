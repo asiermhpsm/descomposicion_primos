{
  "nbformat": 4,
  "nbformat_minor": 0,
  "metadata": {
    "colab": {
      "provenance": []
    },
    "kernelspec": {
      "name": "python3",
      "display_name": "Python 3"
    },
    "language_info": {
      "name": "python"
    }
  },
  "cells": [
    {
      "cell_type": "code",
      "execution_count": 1,
      "metadata": {
        "colab": {
          "base_uri": "https://localhost:8080/"
        },
        "id": "akGJfjbvq2Mf",
        "outputId": "34d6ccbd-b7d4-4543-bce2-63020412893a"
      },
      "outputs": [
        {
          "output_type": "stream",
          "name": "stdout",
          "text": [
            "Los factores primos de 168441398857 son 350437 480661\n"
          ]
        }
      ],
      "source": [
        "# código Python para el método de factorización p-1 de Pollard\n",
        "import math\n",
        "\n",
        "def pollard(n):\n",
        "    # definimos la base y el exponente a 2 para comenzar\n",
        "    a = 2\n",
        "    i = 2\n",
        "    # iteramos hasta obtener el factor primo\n",
        "    while(True):\n",
        "        # calculamos a\n",
        "        a = (a**i) % n\n",
        "        # buscamos el mcd de a-1 and n utilizando la función math.gcd\n",
        "        d = math.gcd((a-1), n)\n",
        "        # comprobamos si hemos encontrado el factor\n",
        "        if (d > 1):\n",
        "            #devolvemos el factor\n",
        "            return d\n",
        "            break\n",
        "        # en caso contrario, incrementamos para la siguiente iteración\n",
        "        i += 1\n",
        "\n",
        "num=168441398857\n",
        "d=pollard(num)\n",
        "r = int(num/d)\n",
        "print(\"Los factores primos de\", num, \"son\", d,r)\n"
      ]
    },
    {
      "cell_type": "code",
      "source": [
        "num=168441398857\n",
        "d=pollard(num)\n",
        "print(\"Los factores primos de\", num, \"son\", d,int(num/d))"
      ],
      "metadata": {
        "colab": {
          "base_uri": "https://localhost:8080/"
        },
        "id": "6zRa01a4MQ_V",
        "outputId": "f7249633-dda0-49e6-883d-38f43317c4a7"
      },
      "execution_count": 2,
      "outputs": [
        {
          "output_type": "stream",
          "name": "stdout",
          "text": [
            "Los factores primos de 168441398857 son 350437 480661\n"
          ]
        }
      ]
    },
    {
      "cell_type": "code",
      "source": [
        "num=16557899\n",
        "d=pollard(num)\n",
        "print(\"Los factores primos de\", num, \"son\", d,int(num/d))"
      ],
      "metadata": {
        "colab": {
          "base_uri": "https://localhost:8080/"
        },
        "id": "6ABiJdwhMQ0u",
        "outputId": "d16d446d-708e-4aca-f974-edb8f24ec21e"
      },
      "execution_count": 3,
      "outputs": [
        {
          "output_type": "stream",
          "name": "stdout",
          "text": [
            "Los factores primos de 16557899 son 3217 5147\n"
          ]
        }
      ]
    },
    {
      "cell_type": "code",
      "source": [
        "num=2277193\n",
        "d=pollard(num)\n",
        "print(\"Los factores primos de\", num, \"son\", d,int(num/d))"
      ],
      "metadata": {
        "colab": {
          "base_uri": "https://localhost:8080/"
        },
        "id": "h8ZOzZDXMQq6",
        "outputId": "26056117-5941-4c50-d81c-17e766ca0b32"
      },
      "execution_count": 4,
      "outputs": [
        {
          "output_type": "stream",
          "name": "stdout",
          "text": [
            "Los factores primos de 2277193 son 2017 1129\n"
          ]
        }
      ]
    }
  ]
}