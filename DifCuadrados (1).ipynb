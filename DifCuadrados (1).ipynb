{
  "nbformat": 4,
  "nbformat_minor": 0,
  "metadata": {
    "colab": {
      "provenance": []
    },
    "kernelspec": {
      "name": "python3",
      "display_name": "Python 3"
    },
    "language_info": {
      "name": "python"
    }
  },
  "cells": [
    {
      "cell_type": "code",
      "execution_count": 1,
      "metadata": {
        "id": "niutVgpFo_67",
        "colab": {
          "base_uri": "https://localhost:8080/"
        },
        "outputId": "22b6b483-c245-4291-a2f0-bb568563ae7f"
      },
      "outputs": [
        {
          "output_type": "stream",
          "name": "stdout",
          "text": [
            "[669, 653]\n"
          ]
        }
      ],
      "source": [
        "import numpy as np\n",
        "\n",
        "#Implementacion en Python del metodo de factorizacion por diferencia de cuadrados\n",
        "def factoriza_dif_cuadrados(n):\n",
        "  #Empezamos por b igual a 1\n",
        "  b=1\n",
        "  Encontrado=False\n",
        "  #Bucle que se ejecuta hasta encontrar el a que nos de la factorizacion\n",
        "  while not Encontrado and b<n:\n",
        "    # Si encontramos b tal que n+b**2 es un cuadrado perfecto, acabamos\n",
        "    # el bucle y devolvemos la raíz calculada\n",
        "    Encontrado, a = esCuadradoPerfecto(n+b**2)\n",
        "    if not Encontrado:\n",
        "      b=b+1\n",
        "  #Devolvemos una lista con los dos enteros que nos dan la factorizacion de n\n",
        "  return[a+b,a-b]\n",
        "\n",
        "# Funcion que devuelve un booleano que nos muestra si el numero de entrada\n",
        "# n es un cuadrado perfecto y el valor de dicha raíz.\n",
        "# Se utilizado para programar esta funcion la\n",
        "# propiedad de que todo cuadrado perfecto es la suma de los x primeros\n",
        "# numeros impares empezando por 1 .Podriamos haber utilizado otros metodos,\n",
        "# como el metodo de Newton.\n",
        "def esCuadradoPerfecto(n):\n",
        "    impar = 1\n",
        "    i = 0\n",
        "    while n > 0:\n",
        "        n = n - impar\n",
        "        impar = impar + 2\n",
        "        i += 1\n",
        "    return n == 0, i\n",
        "\n",
        "print(factoriza_dif_cuadrados(436857))"
      ]
    },
    {
      "cell_type": "code",
      "source": [
        "print(factoriza_dif_cuadrados(3723))"
      ],
      "metadata": {
        "colab": {
          "base_uri": "https://localhost:8080/"
        },
        "id": "fkPfRj1pLbkD",
        "outputId": "b5d96e3a-6ea8-4955-bd97-fd112e8e2607"
      },
      "execution_count": 2,
      "outputs": [
        {
          "output_type": "stream",
          "name": "stdout",
          "text": [
            "[73, 51]\n"
          ]
        }
      ]
    },
    {
      "cell_type": "code",
      "source": [
        "print(factoriza_dif_cuadrados(15436977))"
      ],
      "metadata": {
        "colab": {
          "base_uri": "https://localhost:8080/"
        },
        "id": "98MoUxKGLevI",
        "outputId": "06792da7-64f2-472c-d166-a6f1420c7587"
      },
      "execution_count": 3,
      "outputs": [
        {
          "output_type": "stream",
          "name": "stdout",
          "text": [
            "[3937, 3921]\n"
          ]
        }
      ]
    },
    {
      "cell_type": "code",
      "source": [
        "print(factoriza_dif_cuadrados(88147))"
      ],
      "metadata": {
        "colab": {
          "base_uri": "https://localhost:8080/"
        },
        "id": "zumoHFgQLeYW",
        "outputId": "7b822abf-ab2c-4509-a339-73af0c5019ce"
      },
      "execution_count": 4,
      "outputs": [
        {
          "output_type": "stream",
          "name": "stdout",
          "text": [
            "[487, 181]\n"
          ]
        }
      ]
    },
    {
      "cell_type": "code",
      "source": [
        "print(factoriza_dif_cuadrados(89603863))"
      ],
      "metadata": {
        "colab": {
          "base_uri": "https://localhost:8080/"
        },
        "id": "d3af1pA8NZ3f",
        "outputId": "1381a5d7-dee2-455c-b396-55ffd644c70a"
      },
      "execution_count": 5,
      "outputs": [
        {
          "output_type": "stream",
          "name": "stdout",
          "text": [
            "[9811, 9133]\n"
          ]
        }
      ]
    }
  ]
}